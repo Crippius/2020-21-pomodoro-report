{
 "cells": [
  {
   "cell_type": "markdown",
   "metadata": {},
   "source": [
    "# A report of the 2020-21 school season\n",
    "\n",
    "Between the 14th of September and the 20th of June, the day I completed my high school diploma, I registered every hour I studied using [\"The Pomodoro Technique\"](https://francescocirillo.com/pages/pomodoro-technique).\n",
    "\n",
    "This method consists in splitting time into different frames, a 25 minutes long timeframe in which the user works/studies and a 5 minutes long one that lets you rest; after four blocks that take up a total of two hours the user can take a longer break.\n",
    "\n",
    "As I said earlier I registered every pomodoro I completed (and grade I received) since the 1st of January 2020 in an Excel database and in this report I'm going to focus on the data I entered between the September of 2020 and the 20th of June (My [2020 year report](https://public.tableau.com/app/profile/tommaso6246/viz/Resoconto2020/Dashboard1) made in Tableau concentrates on 2020 as a whole).\n",
    "\n",
    "In this report I'm going to gather general information about my last high school season like the number of hours I studied, the average amount of pomodoris I did every day, the number of days I didn't study, and also finding some particular facts on every subject like the number of distractions I had while studying."
   ]
  },
  {
   "cell_type": "markdown",
   "metadata": {},
   "source": [
    "In this project I'm going to use some of the newer pieces of information I learned during my Codecademy \"Data Scientist\" path like:\n",
    "* Creating Dataframes with Pandas\n",
    "* Data Tiding and Wrangling\n",
    "* Basic Statistics tools\n",
    "* Plotting diagrams with Matplotlib and Pandas\n",
    "* And a lot more..."
   ]
  },
  {
   "cell_type": "code",
   "execution_count": 46,
   "metadata": {},
   "outputs": [],
   "source": [
    "# Let's start by importing Pandas, Math, Datetime, Scipy, Seaborn, Matplotlib and Numpy, since they're going to be used later\n",
    "\n",
    "import pandas as pd\n",
    "import math\n",
    "import numpy as np\n",
    "import datetime\n",
    "import scipy.stats\n",
    "import seaborn as sns\n",
    "import matplotlib.pyplot as plt\n",
    "\n",
    "# Importing both Excel datasets (converted into csv files) and trasforming them into Pandas Dataframes\n",
    "\n",
    "pomodori = pd.read_csv(\"Registrazioni-Pomodori.csv\")\n",
    "voti = pd.read_csv(\"Registrazioni-Voti.csv\")"
   ]
  },
  {
   "cell_type": "code",
   "execution_count": 47,
   "metadata": {},
   "outputs": [
    {
     "name": "stdout",
     "output_type": "stream",
     "text": [
      "       DATA       TIPO  MATERIA ATTIVITA'  POMODORI  IMPREVISTI\n",
      "0  9/1/2020  NO STUDIO      NaN       NaN         0         NaN\n",
      "1  9/2/2020     STUDIO  INGLESE    TEORIA         1         0.0\n",
      "2  9/2/2020     STUDIO     ARTE    TEORIA         2         0.0\n",
      "3  9/3/2020     STUDIO     ARTE  ESERCIZI         1         0.0\n",
      "4  9/4/2020     STUDIO     ARTE  ESERCIZI         4         0.0\n"
     ]
    }
   ],
   "source": [
    "print(pomodori.head())"
   ]
  },
  {
   "cell_type": "code",
   "execution_count": 48,
   "metadata": {},
   "outputs": [
    {
     "name": "stdout",
     "output_type": "stream",
     "text": [
      "        DATA   VOTO     MATERIA\n",
      "0  9/26/2020  10.00  MATEMATICA\n",
      "1  11/3/2020   9.25  MATEMATICA\n",
      "2  12/4/2020   7.00  MATEMATICA\n",
      "3  1/13/2021   8.50  MATEMATICA\n",
      "4  2/12/2021   9.00  MATEMATICA\n",
      "Index(['DATA', 'TIPO', 'MATERIA', 'ATTIVITA'', 'POMODORI', 'IMPREVISTI'], dtype='object')\n"
     ]
    }
   ],
   "source": [
    "print(voti.head())\n",
    "print(pomodori.columns)"
   ]
  },
  {
   "cell_type": "markdown",
   "metadata": {},
   "source": [
    "Let's start by looking at how our two tables are made:\n",
    "\"pomodori\" contains 6 columns:\n",
    "* \"DATA\": corresponds to the date on which the set of pomodoris was completed\n",
    "* \"TIPO\": expresses if in that  particular day I studied\n",
    "* \"MATERIA\": states what type of subject was done\n",
    "* \"ATTIVITA\": declares if I studied theory or did some exercise\n",
    "* \"POMODORI\": tells how many pomodoris were made\n",
    "* \"IMPREVISTI\": indicates how many times I stopped working in the intended period\n",
    "\n",
    "\"voti\" instead contains 3 columns:\n",
    "* \"DATA\": corresponds to the date on which the exam was done\n",
    "* \"VOTO\": expresses the grade I got\n",
    "* \"MATERIA\": states what type of subject does the grade stands for"
   ]
  },
  {
   "cell_type": "markdown",
   "metadata": {},
   "source": [
    "Before starting to toy around with these two datasets they need to be tidied, in fact there are many problems:\n",
    "1) It could be useful changing the name of the columns to variable-like ones (ex. \"ATTIVITA\" to \"attivita\")\n",
    "\n",
    "2) in both datasets we need to change the \"DATA\" column from a string object to a datetime one\n",
    "\n",
    "3) Delete non-necessary lines"
   ]
  },
  {
   "cell_type": "code",
   "execution_count": 49,
   "metadata": {},
   "outputs": [],
   "source": [
    "# Let's start by point one\n",
    "pomodori.rename(columns={\"DATA\":\"data\", \"TIPO\":\"tipo\", \"MATERIA\":\"materia\", \"ATTIVITA'\":\"attivita\", \"POMODORI\":\"pomodori\", \"IMPREVISTI\":\"imprevisti\"}, inplace=True)\n",
    "\n",
    "voti.rename(columns={\"DATA\":\"data\", \"VOTO\":\"voto\", \"MATERIA\":\"materia\"}, inplace=True)"
   ]
  },
  {
   "cell_type": "code",
   "execution_count": 50,
   "metadata": {},
   "outputs": [],
   "source": [
    "# And now point two\n",
    "pomodori.data = pd.to_datetime(pomodori.data)\n",
    "\n",
    "voti.data = pd.to_datetime(voti.data)"
   ]
  },
  {
   "cell_type": "code",
   "execution_count": 51,
   "metadata": {},
   "outputs": [],
   "source": [
    "# At last point three\n",
    "pomodori.dropna(subset = [\"data\"], inplace=True)"
   ]
  },
  {
   "cell_type": "markdown",
   "metadata": {},
   "source": [
    "After polishing our datasets let's start looking at some of the general statistics of this school season."
   ]
  },
  {
   "cell_type": "code",
   "execution_count": 52,
   "metadata": {},
   "outputs": [
    {
     "name": "stdout",
     "output_type": "stream",
     "text": [
      "I have done a total of 1302 pomodori\n",
      "It equals to:\n",
      "32550 minutes\n",
      "542 hours\n",
      "23 days\n"
     ]
    }
   ],
   "source": [
    "# How many pomodoris have I done this year?\n",
    "\n",
    "pom = np.sum(pomodori.pomodori)\n",
    "\n",
    "minutes = round(pom*25, 2)\n",
    "hours = round(minutes/60)\n",
    "days = round(hours/24)\n",
    "\n",
    "\n",
    "print(\"I have done a total of \" + str(pom) + \" pomodori\")\n",
    "print(\"It equals to:\")\n",
    "print(str(minutes) + \" minutes\")\n",
    "print(str(hours) + \" hours\")\n",
    "print(str(days) + \" days\") "
   ]
  },
  {
   "cell_type": "code",
   "execution_count": 53,
   "metadata": {},
   "outputs": [
    {
     "name": "stdout",
     "output_type": "stream",
     "text": [
      "23\n"
     ]
    }
   ],
   "source": [
    "# How many days did I not study?\n",
    "print(len(pomodori[pomodori.tipo == \"NO STUDIO\"]))"
   ]
  },
  {
   "cell_type": "markdown",
   "metadata": {},
   "source": [
    "To keep inferring information in this dataset I think we should change how the data is displayed, from the number of pomodoris I did for a subject in a particular day to the number of general pomodoris completed on a particular day. In this particular dataset it's not important the type of subject or activity, but the number of pomodoris in general."
   ]
  },
  {
   "cell_type": "code",
   "execution_count": 54,
   "metadata": {},
   "outputs": [
    {
     "name": "stdout",
     "output_type": "stream",
     "text": [
      "        data  pomodori\n",
      "0 2020-09-01         0\n",
      "1 2020-09-02         3\n",
      "2 2020-09-03         1\n",
      "3 2020-09-04         4\n",
      "4 2020-09-05         0\n"
     ]
    }
   ],
   "source": [
    "new_data = []\n",
    "today = 0\n",
    "\n",
    "# I had to add the first row outside of the loop since the loop needed the value before i and it wouldn't work with i=0\n",
    "new_data.append([pomodori.data[0], pomodori.pomodori[0]])\n",
    "\n",
    "for i in range(1, len(pomodori.data)):\n",
    "    if pomodori.data[i] != pomodori.data[i-1]:\n",
    "        new_data.append([pomodori.data[i], pomodori.pomodori[i]])\n",
    "        today = pomodori.pomodori[i]\n",
    "    else:\n",
    "        new_data.remove([pomodori.data[i-1], today])\n",
    "        today += pomodori.pomodori[i]\n",
    "        new_data.append([pomodori.data[i], today])\n",
    "        \n",
    "pomodori_general = pd.DataFrame(new_data, columns = ['data', 'pomodori'])\n",
    "print(pomodori_general.head())"
   ]
  },
  {
   "cell_type": "code",
   "execution_count": 55,
   "metadata": {},
   "outputs": [
    {
     "name": "stdout",
     "output_type": "stream",
     "text": [
      "        data  pomodori\n",
      "0 2020-09-07        28\n",
      "1 2020-09-14        10\n",
      "2 2020-09-21        16\n",
      "3 2020-09-28        36\n",
      "4 2020-10-05        24\n",
      "       month  pomodori\n",
      "0  September       100\n",
      "1    October       143\n",
      "2   November       150\n",
      "3   December        94\n",
      "4    January       141\n"
     ]
    }
   ],
   "source": [
    "pomodori_general_week = pomodori_general.groupby([pd.Grouper(key='data', freq='W-MON')])['pomodori'].sum().reset_index().sort_values('data')\n",
    "print(pomodori_general_week.head())\n",
    "\n",
    "pomodori_general_month = pomodori_general.groupby([pd.Grouper(key='data', freq='M')])['pomodori'].sum().reset_index().sort_values('data')\n",
    "months=[\"September\", \"October\", \"November\", \"December\", \"January\", \"February\", \"March\", \"April\", \"May\", \"June\"]\n",
    "m_pomodori=[]\n",
    "for i in range(0, len(months)):\n",
    "    m_pomodori.append(pomodori_general_month.pomodori[i])\n",
    "\n",
    "pomodori_general_month = pd.DataFrame({\"month\":months, \"pomodori\":m_pomodori})\n",
    "print(pomodori_general_month.head())"
   ]
  },
  {
   "cell_type": "code",
   "execution_count": 56,
   "metadata": {},
   "outputs": [
    {
     "data": {
      "image/png": "[encoded data removed]",
      "text/plain": [
       "<Figure size 1296x216 with 1 Axes>"
      ]
     },
     "metadata": {
      "needs_background": "light"
     },
     "output_type": "display_data"
    },
    {
     "name": "stdout",
     "output_type": "stream",
     "text": [
      "The most productive day was: 2021-06-16 00:00:00 with 15 pomodoris completed\n",
      "In average I did 4.51 pomodoris per day\n"
     ]
    }
   ],
   "source": [
    "max_index = pomodori_general.pomodori.idxmax()\n",
    "max_day_pom = max(pomodori_general.pomodori)\n",
    "max_day_mon = pomodori_general.data[max_index]\n",
    "\n",
    "mean = round(np.mean(pomodori_general.pomodori), 2)\n",
    "\n",
    "plt.figure(figsize=(18,3))\n",
    "plt.bar(pomodori_general.data, pomodori_general.pomodori, color=\"red\")\n",
    "plt.axhline(mean, linestyle = \"--\", color = \"red\")\n",
    "plt.show()\n",
    "\n",
    "print(\"The most productive day was: \" + str(max_day_mon) + \" with \" + str(max_day_pom) + \" pomodoris completed\")\n",
    "print(\"In average I did \" + str(mean) + \" pomodoris per day\")"
   ]
  },
  {
   "cell_type": "code",
   "execution_count": 57,
   "metadata": {},
   "outputs": [
    {
     "data": {
      "image/png": "[encoded data removed]",
      "text/plain": [
       "<Figure size 1296x216 with 1 Axes>"
      ]
     },
     "metadata": {
      "needs_background": "light"
     },
     "output_type": "display_data"
    },
    {
     "name": "stdout",
     "output_type": "stream",
     "text": [
      "The week with most and less pomodoris completed were respectively 2021-06-14 00:00:00 (55 completed) and 2020-12-28 00:00:00 (6)\n"
     ]
    }
   ],
   "source": [
    "plt.figure(figsize=(18,3))\n",
    "plt.bar(pomodori_general_week.data, pomodori_general_week.pomodori, color=\"red\")\n",
    "plt.show()\n",
    "\n",
    "max_index = pomodori_general_week.pomodori.idxmax()\n",
    "max_week_pom = max(pomodori_general_week.pomodori)\n",
    "max_week_mon = pomodori_general_week.data[max_index]\n",
    "\n",
    "min_index = pomodori_general_week.pomodori.idxmin()\n",
    "min_week_pom = min(pomodori_general_week.pomodori)\n",
    "min_week_mon = pomodori_general_week.data[min_index]\n",
    "\n",
    "print(\"The week with most and less pomodoris completed were respectively \" + str(max_week_mon) + \" (\" + str(max_week_pom) + \" completed)\"\n",
    "      + \" and \" + str(min_week_mon) + \" (\" + str(min_week_pom) + \")\")"
   ]
  },
  {
   "cell_type": "code",
   "execution_count": 58,
   "metadata": {},
   "outputs": [
    {
     "data": {
      "image/png": "[encoded data removed]",
      "text/plain": [
       "<Figure size 864x216 with 1 Axes>"
      ]
     },
     "metadata": {
      "needs_background": "light"
     },
     "output_type": "display_data"
    },
    {
     "name": "stdout",
     "output_type": "stream",
     "text": [
      "The months with most and less pomodoris completed were respectively March (168 completed) and December (94).\n",
      "June had a frequency of pomodoris per day equal to: 6.35 pomodoris per day, greater than March's frequency of 5.42 after a difference of 0.93 pomodoris/day.\n"
     ]
    }
   ],
   "source": [
    "plt.figure(figsize=(12,3))\n",
    "plt.bar(pomodori_general_month.month, pomodori_general_month.pomodori, color=\"red\")\n",
    "plt.show()\n",
    "\n",
    "max_index = pomodori_general_month.pomodori.idxmax()\n",
    "max_month_pom = max(pomodori_general_month.pomodori)\n",
    "max_month_mon = pomodori_general_month.month[max_index]\n",
    "\n",
    "min_index = pomodori_general_month.pomodori.idxmin()\n",
    "min_month_pom = min(pomodori_general_month.pomodori)\n",
    "min_month_mon = pomodori_general_month.month[min_index]\n",
    "\n",
    "print(\"The months with most and less pomodoris completed were respectively \" + max_month_mon + \" (\" + str(max_month_pom) + \" completed)\"\n",
    "      + \" and \" + min_month_mon + \" (\" + str(min_month_pom) + \").\")\n",
    "\n",
    "freq_june = round(pomodori_general_month.loc[pomodori_general_month['month'] == \"June\", 'pomodori'].iloc[0]/17, 2)\n",
    "freq_march = round(pomodori_general_month.loc[pomodori_general_month['month'] == \"March\", 'pomodori'].iloc[0]/31, 2)\n",
    "diff = round(freq_june - freq_march, 2)\n",
    "print(\"June had a frequency of pomodoris per day equal to: \" + str(freq_june) + \" pomodoris per day, greater than March's frequency of \"\n",
    "      + str(freq_march) + \" after a difference of \" + str(diff) + \" pomodoris/day.\")"
   ]
  },
  {
   "cell_type": "markdown",
   "metadata": {},
   "source": [
    "With these three plots we can extrapolate how much pomodoris I did every day, week, and month.\n",
    "In particular, the most important facts we can find are:\n",
    "1) Most of the days spent without studying were in the first trimester\n",
    "\n",
    "2) March was the month with the most pomodoris, but June had a greater frequency\n",
    "\n",
    "3) The week before the \"maturità\" was the most productive, the least productive was the one after Christmas\n",
    "\n",
    "4) The most productive day was the day before \"maturità\""
   ]
  },
  {
   "cell_type": "markdown",
   "metadata": {},
   "source": [
    "Now let's look at the pomodoris done in every single subject by returning to our original dataset:\n"
   ]
  },
  {
   "cell_type": "code",
   "execution_count": 59,
   "metadata": {},
   "outputs": [
    {
     "name": "stdout",
     "output_type": "stream",
     "text": [
      "I studied INGLESE for a total of 87 pomodoris (equal to 36 hours), it also had 12 accidents.\n",
      " \n",
      "I studied ARTE for a total of 167 pomodoris (equal to 69 hours), it also had 18 accidents.\n",
      " \n",
      "I studied ITALIANO for a total of 199 pomodoris (equal to 82 hours), it also had 23 accidents.\n",
      " \n",
      "I studied MATEMATICA for a total of 199 pomodoris (equal to 82 hours), it also had 14 accidents.\n",
      " \n",
      "I studied SCIENZE for a total of 262 pomodoris (equal to 109 hours), it also had 22 accidents.\n",
      " \n",
      "I studied FISICA for a total of 173 pomodoris (equal to 72 hours), it also had 13 accidents.\n",
      " \n",
      "I studied LATINO for a total of 80 pomodoris (equal to 33 hours), it also had 11 accidents.\n",
      " \n",
      "I studied FILOSOFIA for a total of 58 pomodoris (equal to 24 hours), it also had 8 accidents.\n",
      " \n",
      "I studied STORIA for a total of 58 pomodoris (equal to 24 hours), it also had 5 accidents.\n",
      " \n",
      "I studied ED. FISICA for a total of 10 pomodoris (equal to 4 hours), it also had no accidents\n",
      " \n",
      "I studied RELIGIONE for a total of 4 pomodoris (equal to 1 hours), it also had no accidents\n",
      " \n",
      "I studied ED. CIVICA for a total of 5 pomodoris (equal to 2 hours), it also had 1 accidents.\n",
      " \n"
     ]
    }
   ],
   "source": [
    "subject_dict = {}\n",
    "\n",
    "for i in range(0, len(pomodori)):\n",
    "    if pomodori.pomodori[i] != 0:\n",
    "        if pomodori.materia[i] not in subject_dict:\n",
    "            subject_dict[pomodori.materia[i]] = 0\n",
    "        subject_dict[pomodori.materia[i]] += pomodori.pomodori[i]\n",
    "\n",
    "subject_dict_impr = {}\n",
    "\n",
    "for i in range(0, len(pomodori)):\n",
    "    if pomodori.pomodori[i] != 0 and pomodori.imprevisti[i] != 0:\n",
    "        if pomodori.materia[i] not in subject_dict_impr:\n",
    "            subject_dict_impr[pomodori.materia[i]] = 0\n",
    "        subject_dict_impr[pomodori.materia[i]] += math.trunc(pomodori.imprevisti[i])\n",
    "\n",
    "\n",
    "\n",
    "for i in subject_dict.keys():\n",
    "    hours = math.trunc(subject_dict[i]*25/60)\n",
    "    if i in subject_dict_impr:\n",
    "        print(\"I studied \" + str(i) + \" for a total of \" + str(subject_dict[i]) + \" pomodoris (equal to \" + str(hours) +  \" hours), it also had \" + str(subject_dict_impr[i]) + \" accidents.\")\n",
    "    else:\n",
    "        print(\"I studied \" + str(i) + \" for a total of \" + str(subject_dict[i]) + \" pomodoris (equal to \" + str(hours) +  \" hours), it also had no accidents\")\n",
    "    print(\" \")"
   ]
  },
  {
   "cell_type": "markdown",
   "metadata": {},
   "source": [
    "Science (SCIENZE) was surprisingly the most studied subject with 262 pomodoris, the second place shared by Italian (ITALIANO) and math (MATEMATICA) (199 pomodoris) and at third place physics (FISICA) (173 pomodoris).\n",
    "\n",
    "Coincidentally philosophy (FILOSOFIA) and history (STORIA) had the same number of pomodoris that would equal to one day of studying per subject.\n",
    "\n",
    "Italian (ITALIANO) had the most accidents, but English (INGLESE) and philosophy (FILOSOFIA) had a higher rate of accidents (0.138 per pomodoro)."
   ]
  },
  {
   "cell_type": "code",
   "execution_count": 60,
   "metadata": {},
   "outputs": [
    {
     "data": {
      "image/png": "[encoded data removed]",
      "text/plain": [
       "<Figure size 432x288 with 1 Axes>"
      ]
     },
     "metadata": {},
     "output_type": "display_data"
    }
   ],
   "source": [
    "subj_data = [x for x in subject_dict.values()]\n",
    "subj_labels = [x for x in subject_dict.keys()]\n",
    "\n",
    "# Creating \"Others\" part of pie\n",
    "\n",
    "subj_data_new = []\n",
    "subj_labels_new = []\n",
    "other = 0\n",
    "for i in range(0, len(subj_data)):\n",
    "    if subj_data[i] <= 10:\n",
    "        other += subj_data[i]\n",
    "    else:\n",
    "        subj_data_new.append(subj_data[i])\n",
    "        subj_labels_new.append(subj_labels[i])\n",
    "subj_data_new.append(other)\n",
    "subj_labels_new.append(\"ALTRO\")\n",
    "        \n",
    "plt.pie(subj_data_new,labels=subj_labels_new)\n",
    "plt.axis('equal')\n",
    "plt.show()"
   ]
  },
  {
   "cell_type": "markdown",
   "metadata": {},
   "source": [
    "Now let's look at the voti dataset, especially the mean, median and mode of every single subject"
   ]
  },
  {
   "cell_type": "code",
   "execution_count": 61,
   "metadata": {},
   "outputs": [
    {
     "name": "stdout",
     "output_type": "stream",
     "text": [
      "The mean, median, mode of MATEMATICA are respectively 9.12, 9.38 and 10.0.\n",
      " \n",
      "The mean, median, mode of FISICA are respectively 8.18, 8.0 and 6.75.\n",
      " \n",
      "The mean, median, mode of ITALIANO are respectively 7.41, 7.5 and 6.5.\n",
      " \n",
      "The mean, median, mode of LATINO are respectively 7.55, 7.5 and 7.5.\n",
      " \n",
      "The mean, median, mode of STORIA are respectively 8.38, 8.25 and 8.0.\n",
      " \n",
      "The mean, median, mode of FILOSOFIA are respectively 8.25, 8.25 and 8.0.\n",
      " \n",
      "The mean, median, mode of INGLESE are respectively 8.71, 8.5 and 7.75.\n",
      " \n",
      "The mean, median, mode of ARTE are respectively 6.69, 6.75 and 6.75.\n",
      " \n",
      "The mean, median, mode of SCIENZE are respectively 8.18, 7.75 and 7.5.\n",
      " \n",
      "The mean, median, mode of ED. FISICA are respectively 8.36, 9.0 and 9.0.\n",
      " \n",
      "The mean, median, mode of RELIGIONE are respectively 7.67, 8.0 and 8.0.\n",
      " \n",
      "The mean, median, mode of ED. CIVICA are respectively 7.61, 7.75 and 8.0.\n",
      " \n",
      " \n",
      " \n",
      "The overall mean, median and mode are 7.97, 8.0 and 8.0\n"
     ]
    }
   ],
   "source": [
    "subj_voti = {}\n",
    "all_grades = []\n",
    "media_list = []\n",
    "moda_list = []\n",
    "mediana_list = []\n",
    "for i in range(0, len(voti)):\n",
    "    if voti.materia[i] not in subj_voti:\n",
    "        subj_voti[voti.materia[i]] = []\n",
    "    subj_voti[voti.materia[i]].append(voti.voto[i])\n",
    "    all_grades.append(voti.voto[i])\n",
    "    \n",
    "for i in subj_voti.keys():\n",
    "    moda = scipy.stats.mode(subj_voti[i])[0][0]\n",
    "    media = round(np.mean(subj_voti[i]), 2)\n",
    "    mediana = round(np.median(subj_voti[i]), 2)\n",
    "    \n",
    "    moda_list.append(moda)\n",
    "    mediana_list.append(mediana)\n",
    "    media_list.append(media)\n",
    "    \n",
    "    print(\"The mean, median, mode of \" + i + \" are respectively \" + str(media) + \", \" + str(mediana) + \" and \" + str(moda) + \".\")\n",
    "    print(\" \")\n",
    "\n",
    "mmm = [media_list, mediana_list, moda_list]\n",
    "\n",
    "total_moda = scipy.stats.mode(all_grades)[0][0]\n",
    "total_media = round(np.mean(all_grades), 2)\n",
    "total_mediana = round(np.median(all_grades), 2)   \n",
    "print(\" \")\n",
    "print(\" \")\n",
    "print(\"The overall mean, median and mode are \" + str(total_media) + \", \" + str(total_mediana) + \" and \" + str(total_moda))"
   ]
  },
  {
   "cell_type": "code",
   "execution_count": 62,
   "metadata": {},
   "outputs": [
    {
     "data": {
      "image/png": "[encoded data removed]",
      "text/plain": [
       "<Figure size 1080x216 with 1 Axes>"
      ]
     },
     "metadata": {
      "needs_background": "light"
     },
     "output_type": "display_data"
    },
    {
     "data": {
      "image/png": "[encoded data removed]",
      "text/plain": [
       "<Figure size 1080x216 with 1 Axes>"
      ]
     },
     "metadata": {
      "needs_background": "light"
     },
     "output_type": "display_data"
    },
    {
     "data": {
      "image/png": "[encoded data removed]",
      "text/plain": [
       "<Figure size 1080x216 with 1 Axes>"
      ]
     },
     "metadata": {
      "needs_background": "light"
     },
     "output_type": "display_data"
    }
   ],
   "source": [
    "for i in mmm:\n",
    "    plt.figure(figsize=(15, 3))\n",
    "    plt.ylim([6, 10])\n",
    "    plt.grid(axis=\"y\")\n",
    "    if i == moda_list:\n",
    "        plt.title(\"Mode\")\n",
    "        plt.bar(subj_voti.keys(), i, color=\"green\")\n",
    "        plt.axhline(total_moda, linestyle = \"--\", color = \"green\")\n",
    "    elif i == media_list:\n",
    "        plt.title(\"Mean\")\n",
    "        plt.bar(subj_voti.keys(), i, color=\"red\")\n",
    "        plt.axhline(total_media, linestyle = \"--\", color = \"red\")    \n",
    "    elif i == mediana_list:\n",
    "        plt.title(\"Median\")\n",
    "        plt.bar(subj_voti.keys(), i, color=\"blue\")\n",
    "        plt.axhline(total_mediana, linestyle = \"--\", color = \"blue\")\n",
    "    plt.show()"
   ]
  },
  {
   "cell_type": "markdown",
   "metadata": {},
   "source": [
    "Art was by far the worst subject of the year, with Italian and Latin that come to a close second.\n",
    "\n",
    "Math was my best subject, I'm really happy that its mode is equal to 10; the same mode was the only one with PE's one that was higher than the total mode.\n",
    "\n",
    "The difference between humanistic and scientific subjects is easily visible."
   ]
  },
  {
   "cell_type": "markdown",
   "metadata": {},
   "source": [
    "Now let's try something more difficult, let's work with the pomodori and voti datasets to look at: how many pomodoris I studied for each test, the average amount of pomodoris needed to get a grade by looking at the 10 days before the day of the test by using a logarithmic curve, in my opinion the best curve for this type of work, since lower grades can be achieved with less study, but there's a lot of pomodoris to do if I want to gain a 10.\n",
    "\n",
    "(Since I studied a lot on every test I can't check if a lower amount of pomodoris correspond to lower grades, so the assumption that less study = lower grades is only theoretical and not empirical)"
   ]
  },
  {
   "cell_type": "code",
   "execution_count": 63,
   "metadata": {},
   "outputs": [],
   "source": [
    "# The intentions of this block of code were: finding the timeframe before the test, and add to a variable the number\n",
    "# of pomodoris to an int variable, then make a nested list, the internal one contains the grade and the number of pomodoris\n",
    "# the external one contains every grade_pomodoris association; every nested list is part of a dictionary for every subject\n",
    "\n",
    "subj_list = {}\n",
    "\n",
    "# Added subj_list_mean later to find the average number of pomodoris I did in preparation of a test \n",
    "subj_list_mean = {}\n",
    "\n",
    "for i in voti.materia:\n",
    "    subj_list[i] = []\n",
    "    subj_list_mean[i] = []\n",
    "    \n",
    "for i in range(0, len(voti)):\n",
    "    pomodori_studied = 0\n",
    "    subject = voti.materia[i]\n",
    "    \n",
    "    days_before = datetime.timedelta(10)\n",
    "    initial_data = voti.data[i] - days_before\n",
    "    last_data = voti.data[i]\n",
    "    \n",
    "    for y in range(0, len(pomodori)):\n",
    "        if initial_data <= pomodori.data[y] and pomodori.data[y] <= last_data and pomodori.materia[y] == subject:\n",
    "            pomodori_studied += pomodori.pomodori[y]\n",
    "    \n",
    "    subj_list_mean[voti.materia[i]].append(pomodori_studied)\n",
    "    grade_pomodori=[voti.voto[i], pomodori_studied]\n",
    "    subj_list[voti.materia[i]].append(grade_pomodori)"
   ]
  },
  {
   "cell_type": "code",
   "execution_count": 64,
   "metadata": {},
   "outputs": [],
   "source": [
    "# To find the best curve for every subject I use every datapoint given by the pair [grade, number of pomodoris] and try to find\n",
    "# the one with the smallest error between all of them given a z variable as the base of the log; \n",
    "# After finding it I can compare the different curves to find the most and least steep of all.\n",
    "# I'm going to use a block of code that I developed during a Codecademy project to find the best slope given a set of datapoints\n",
    "\n",
    "def calculate_error(z, point):\n",
    "    y_point, x_point = point\n",
    "    y = math.log((x_point + 1), z)\n",
    "    distance = abs(y - y_point)\n",
    "    return distance\n",
    "\n",
    "def calculate_all_error(z, points):\n",
    "    total_error = 0\n",
    "    for point in datapoints:\n",
    "        point_error = calculate_error(z, point)\n",
    "        total_error += point_error\n",
    "    return total_error\n",
    "\n",
    "possible_zs = [z * 0.01 for z in range(101, 1000)]\n",
    "\n",
    "subj_base = {}\n",
    "\n",
    "for i in subj_list.keys():\n",
    "    datapoints = subj_list[i]\n",
    "    \n",
    "    smallest_error = float(\"inf\")\n",
    "    best_z = 0\n",
    "\n",
    "    for z in possible_zs:\n",
    "        error = calculate_all_error(z, datapoints)\n",
    "        if error < smallest_error:\n",
    "            best_z = z\n",
    "            smallest_error = error \n",
    "\n",
    "    subj_base[i] = best_z\n",
    "\n",
    "# Discovered a week later that there is a function in the numpy library to do this kind of things...\n",
    "# I'm still going to keep my code since it uses the base of the logarthm as a variable and I enjoyed building it.\n",
    "# This is how to do it in a couple of lines:\n",
    "# [m, b] = np.polyfit(np.log(x+1), y, 1) --> y = m*log(x+1) + b\n",
    "\n",
    "\n",
    "# Removing ED. FISICA, ED. CIVICA, RELIGIONE because of lack of pomodoris done compared to the other\n",
    "del subj_base[\"ED. FISICA\"]\n",
    "del subj_base[\"ED. CIVICA\"]\n",
    "del subj_base[\"RELIGIONE\"]\n",
    "\n",
    "del subj_list_mean[\"ED. FISICA\"]\n",
    "del subj_list_mean[\"ED. CIVICA\"]\n",
    "del subj_list_mean[\"RELIGIONE\"]"
   ]
  },
  {
   "cell_type": "code",
   "execution_count": 65,
   "metadata": {},
   "outputs": [
    {
     "data": {
      "image/png": "[encoded data removed]",
      "text/plain": [
       "<Figure size 864x360 with 1 Axes>"
      ]
     },
     "metadata": {
      "needs_background": "light"
     },
     "output_type": "display_data"
    }
   ],
   "source": [
    "plt.figure(figsize=(12, 5))\n",
    "plt.xlim(0, 40)\n",
    "plt.ylim(0, 14)\n",
    "for i in subj_base.keys():\n",
    "    x = range(0, 40)  \n",
    "    y = []\n",
    "    for X in x:\n",
    "        y_log = math.log((X+1), subj_base[i])\n",
    "        y.append(y_log)\n",
    "        \n",
    "    plt.plot(x, y, label=i)\n",
    "    plt.legend()\n",
    "    plt.grid()\n",
    "    plt.axhline(10, color=\"red\", linestyle=\"--\")\n",
    "    plt.xlabel(\"Number of pomodoris\")\n",
    "    plt.ylabel(\"Average grade\")\n",
    "\n",
    "plt.show()"
   ]
  },
  {
   "cell_type": "code",
   "execution_count": 66,
   "metadata": {},
   "outputs": [
    {
     "name": "stdout",
     "output_type": "stream",
     "text": [
      "To earn a 10 in MATEMATICA I needed to study in average at least 19  pomodoris, I did in average 15 pomodoris.\n",
      " \n",
      "To earn a 10 in FISICA I needed to study in average at least 24  pomodoris, I did in average 14 pomodoris.\n",
      " \n",
      "To earn a 10 in ITALIANO I needed to study in average at least 28  pomodoris, I did in average 15 pomodoris.\n",
      " \n",
      "To earn a 10 in LATINO I needed to study in average at least 22  pomodoris, I did in average 10 pomodoris.\n",
      " \n",
      "To earn a 10 in STORIA I needed to study in average at least 21  pomodoris, I did in average 10 pomodoris.\n",
      " \n",
      "To earn a 10 in FILOSOFIA I needed to study in average at least 24  pomodoris, I did in average 11 pomodoris.\n",
      " \n",
      "To earn a 10 in INGLESE I needed to study in average at least 16  pomodoris, I did in average 8 pomodoris.\n",
      " \n",
      "To earn a 10 in ARTE I needed to study in average at least 65  pomodoris, I did in average 10 pomodoris.\n",
      " \n",
      "To earn a 10 in SCIENZE I needed to study in average at least 49  pomodoris, I did in average 17 pomodoris.\n",
      " \n"
     ]
    }
   ],
   "source": [
    "for i in subj_base.keys():\n",
    "    x_10 = round((subj_base[i] ** 10) - 1)\n",
    "    mean = round(np.mean(subj_list_mean[i]))\n",
    "    print(\"To earn a 10 in \" + i + \" I needed to study in average at least \" + str(x_10), \" pomodoris, I did in average \" + str(mean) + \" pomodoris.\")\n",
    "    print(\" \")"
   ]
  },
  {
   "cell_type": "markdown",
   "metadata": {},
   "source": [
    "One last type of data I can inquire in this datasets is the \"attivita\" column to check if a certain pomodoro was focused primarly on theory (TEORIA) or exercise (ESERCIZI)."
   ]
  },
  {
   "cell_type": "code",
   "execution_count": 67,
   "metadata": {},
   "outputs": [
    {
     "name": "stdout",
     "output_type": "stream",
     "text": [
      "I did 856 pomodoris focused on theory 66% of the pomodoris\n",
      "I did 446 pomodoris focused on theory 34% of the pomodoris\n"
     ]
    }
   ],
   "source": [
    "theory = np.sum(pomodori.pomodori[pomodori.attivita == \"TEORIA\"])\n",
    "exercise = np.sum(pomodori.pomodori[pomodori.attivita == \"ESERCIZI\"])\n",
    "length = np.sum(pomodori.pomodori)\n",
    "print(\"I did \" + str(theory) + \" pomodoris focused on theory \" + str(round(100*theory/length)) + \"% of the pomodoris\")\n",
    "print(\"I did \" + str(exercise) + \" pomodoris focused on theory \" + str(round(100*exercise/length)) + \"% of the pomodoris\")"
   ]
  },
  {
   "cell_type": "markdown",
   "metadata": {},
   "source": [
    "The most important take on this information is that the amount of pomodoris spent on theory has increased since the 2020 report,  there is a 15% difference between the two datasets in the ratio of pomodoris spent exercising or studying theory. "
   ]
  },
  {
   "cell_type": "markdown",
   "metadata": {},
   "source": [
    "## Conclusions"
   ]
  },
  {
   "cell_type": "markdown",
   "metadata": {},
   "source": [
    "I'm pretty proud of my last high school season, the study method using the pomodoris has been helpful during the year and the grades I achieved confirmed it.\n",
    "\n",
    "While the final grade given to me is a 72/100, a relatively low outcome primarily caused by the past years in which I didn't do as good and a not-exceptional oral exam that would count on 40% of the final outcome, I think I'm in great conditions to pursue my future university's hurdles.\n",
    "\n",
    "Talking about this report I'm really happy with how it turned out, I did everything I wanted to do at the start of the project, even the logarithmic regression for the grades and the number of pomodoris done in preparation, something I couldn't even imagine of doing in the months prior, I really enjoyed designing the loops to inspect data and creating graphs with Matplotlib.\n",
    "\n",
    "Hope you enjoyed this report.\n",
    "\n",
    "#### Happy Coding!"
   ]
  }
 ],
 "metadata": {
  "kernelspec": {
   "display_name": "Python 3",
   "language": "python",
   "name": "python3"
  },
  "language_info": {
   "codemirror_mode": {
    "name": "ipython",
    "version": 3
   },
   "file_extension": ".py",
   "mimetype": "text/x-python",
   "name": "python",
   "nbconvert_exporter": "python",
   "pygments_lexer": "ipython3",
   "version": "3.8.5"
  }
 },
 "nbformat": 4,
 "nbformat_minor": 4
}
